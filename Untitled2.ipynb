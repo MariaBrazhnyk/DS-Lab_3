{
 "cells": [
  {
   "cell_type": "code",
   "execution_count": 1,
   "metadata": {},
   "outputs": [],
   "source": [
    "import pandas as pd\n",
    "import timeit\n",
    "import matplotlib.pyplot as plt\n",
    "import numpy as np"
   ]
  },
  {
   "cell_type": "code",
   "execution_count": 2,
   "metadata": {},
   "outputs": [],
   "source": [
    "df = pd.read_csv('Data.csv', sep='[; ]+', engine='python')"
   ]
  },
  {
   "cell_type": "code",
   "execution_count": 28,
   "metadata": {},
   "outputs": [],
   "source": [
    "data = np.genfromtxt('Data.csv', dtype={'names':('Date', 'Time', 'Global_active_power', 'Global_reactive_power', 'Voltage', 'Global_intensity', 'Sub_metering_1', 'Sub_metering_2', 'Sub_metering_3'), 'formats':('U8', 'U8', 'f8', 'f8', 'f8', 'f8', 'f8', 'f8', 'f8')}, delimiter=';')\n",
    "data = np.delete(data, (0), axis=0)"
   ]
  },
  {
   "cell_type": "markdown",
   "metadata": {},
   "source": [
    "ЗАДАНИЕ 1"
   ]
  },
  {
   "cell_type": "code",
   "execution_count": 9,
   "metadata": {},
   "outputs": [],
   "source": [
    "setup = '''import pandas as pd\n",
    "df = pd.read_csv('Data.csv', sep='[; ]+', engine='python')'''"
   ]
  },
  {
   "cell_type": "code",
   "execution_count": 40,
   "metadata": {},
   "outputs": [],
   "source": [
    "setup0 = '''import numpy as np\n",
    "data = np.genfromtxt('Data.csv', dtype={'names':('Date', 'Time', 'Global_active_power', 'Global_reactive_power', 'Voltage', 'Global_intensity', 'Sub_metering_1', 'Sub_metering_2', 'Sub_metering_3'), 'formats':('U8', 'U8', 'f8', 'f8', 'f8', 'f8', 'f8', 'f8', 'f8')}, delimiter=';')\n",
    "data = np.delete(data, (0), axis=0)'''"
   ]
  },
  {
   "cell_type": "markdown",
   "metadata": {},
   "source": [
    "Блок 1-го задания для dataframe"
   ]
  },
  {
   "cell_type": "code",
   "execution_count": 192,
   "metadata": {},
   "outputs": [],
   "source": [
    "# df100 = df[(df.index <=100) & (df.Global_active_power > 5)]\n",
    "stmt = 'df[(df.index <=100) & (df.Global_active_power > 5)]'\n",
    "y1 = timeit.timeit(stmt = stmt, setup = setup, number = 1)"
   ]
  },
  {
   "cell_type": "code",
   "execution_count": 193,
   "metadata": {},
   "outputs": [],
   "source": [
    "stmt2 = 'df[(df.index <=1000) & (df.Global_active_power > 5)]'\n",
    "y2 = timeit.timeit(stmt = stmt2, setup = setup, number = 1)"
   ]
  },
  {
   "cell_type": "code",
   "execution_count": 194,
   "metadata": {},
   "outputs": [],
   "source": [
    "stmt3 = 'df[(df.index <=10000) & (df.Global_active_power > 5)]'\n",
    "y3 = timeit.timeit(stmt = stmt3, setup = setup, number = 1)"
   ]
  },
  {
   "cell_type": "code",
   "execution_count": 195,
   "metadata": {},
   "outputs": [],
   "source": [
    "stmt4 = 'df[(df.index <=100000) & (df.Global_active_power > 5)]'\n",
    "y4 = timeit.timeit(stmt = stmt4, setup = setup, number = 1)"
   ]
  },
  {
   "cell_type": "code",
   "execution_count": 196,
   "metadata": {},
   "outputs": [],
   "source": [
    "stmt5 = 'df[(df.index <=1000000) & (df.Global_active_power > 5)]'\n",
    "y5 = timeit.timeit(stmt = stmt5, setup = setup, number = 1)"
   ]
  },
  {
   "cell_type": "code",
   "execution_count": 197,
   "metadata": {},
   "outputs": [],
   "source": [
    "stmt6 = 'df[(df.index <= 2000000) & (df.Global_active_power > 5)]'\n",
    "y6 = timeit.timeit(stmt = stmt6, setup = setup, number = 1)"
   ]
  },
  {
   "cell_type": "markdown",
   "metadata": {},
   "source": [
    "Блок 1-го задания для массива "
   ]
  },
  {
   "cell_type": "code",
   "execution_count": 198,
   "metadata": {},
   "outputs": [],
   "source": [
    "stmt01 = '''data = data[0:100]\n",
    "data[data['Global_active_power'] > 5]'''\n",
    "y01 = timeit.timeit(stmt = stmt01, setup = setup0, number = 1)"
   ]
  },
  {
   "cell_type": "code",
   "execution_count": 199,
   "metadata": {},
   "outputs": [],
   "source": [
    "stmt02 = '''data = data[0:1000]\n",
    "data[data['Global_active_power'] > 5]'''\n",
    "y02 = timeit.timeit(stmt = stmt02, setup = setup0, number = 1)"
   ]
  },
  {
   "cell_type": "code",
   "execution_count": 200,
   "metadata": {},
   "outputs": [],
   "source": [
    "stmt03 = '''data = data[0:10000]\n",
    "data[data['Global_active_power'] > 5]'''\n",
    "y03 = timeit.timeit(stmt = stmt03, setup = setup0, number = 1)"
   ]
  },
  {
   "cell_type": "code",
   "execution_count": 201,
   "metadata": {},
   "outputs": [],
   "source": [
    "stmt04 = '''data = data[0:100000]\n",
    "data[data['Global_active_power'] > 5]'''\n",
    "y04 = timeit.timeit(stmt = stmt04, setup = setup0, number = 1)"
   ]
  },
  {
   "cell_type": "code",
   "execution_count": 202,
   "metadata": {},
   "outputs": [],
   "source": [
    "stmt05 = '''data = data[0:1000000]\n",
    "data[data['Global_active_power'] > 5]'''\n",
    "y05 = timeit.timeit(stmt = stmt05, setup = setup0, number = 1)"
   ]
  },
  {
   "cell_type": "code",
   "execution_count": 203,
   "metadata": {},
   "outputs": [],
   "source": [
    "stmt06 = '''data = data[0:2000000]\n",
    "data[data['Global_active_power'] > 5]'''\n",
    "y06 = timeit.timeit(stmt = stmt06, setup = setup0, number = 1)"
   ]
  },
  {
   "cell_type": "code",
   "execution_count": 204,
   "metadata": {},
   "outputs": [
    {
     "data": {
      "text/plain": [
       "[<matplotlib.lines.Line2D at 0x228f491c688>]"
      ]
     },
     "execution_count": 204,
     "metadata": {},
     "output_type": "execute_result"
    },
    {
     "data": {
      "image/png": "[encoded data removed]",
      "text/plain": [
       "<Figure size 432x288 with 1 Axes>"
      ]
     },
     "metadata": {
      "needs_background": "light"
     },
     "output_type": "display_data"
    }
   ],
   "source": [
    "x = [100, 1000, 10000,100000,1000000, 2000000]\n",
    "y = [y1, y2, y3, y4, y5, y6]\n",
    "y_1 = [y01, y02, y03, y04, y05, y06]\n",
    "plt.plot(x, y, color = 'red')\n",
    "plt.plot(x, y_1, color = 'blue')"
   ]
  },
  {
   "cell_type": "markdown",
   "metadata": {},
   "source": [
    "ЗАДАНИЕ 2"
   ]
  },
  {
   "cell_type": "markdown",
   "metadata": {},
   "source": [
    "Блок для dataframe"
   ]
  },
  {
   "cell_type": "code",
   "execution_count": 80,
   "metadata": {},
   "outputs": [],
   "source": [
    "stmt1 = 'df[(df.index <=100) & (df.Voltage > 235)]'\n",
    "y1 = timeit.timeit(stmt = stmt1, setup = setup, number = 1)"
   ]
  },
  {
   "cell_type": "code",
   "execution_count": 81,
   "metadata": {},
   "outputs": [],
   "source": [
    "stmt2 = '''df[(df.index <=1000) & (df.Voltage > 235)]'''\n",
    "y2 = timeit.timeit(stmt = stmt2, setup = setup, number = 1)"
   ]
  },
  {
   "cell_type": "code",
   "execution_count": 82,
   "metadata": {},
   "outputs": [],
   "source": [
    "stmt3 = '''df[(df.index <=10000) & (df.Voltage > 235)]'''\n",
    "y3 = timeit.timeit(stmt = stmt3, setup = setup, number = 1)"
   ]
  },
  {
   "cell_type": "code",
   "execution_count": 83,
   "metadata": {},
   "outputs": [],
   "source": [
    "stmt4 = '''df[(df.index <=100000) & (df.Voltage > 235)]'''\n",
    "y4 = timeit.timeit(stmt = stmt4, setup = setup, number = 1)"
   ]
  },
  {
   "cell_type": "code",
   "execution_count": 84,
   "metadata": {},
   "outputs": [],
   "source": [
    "stmt5 = '''df[(df.index <=1000000) & (df.Voltage > 235)]'''\n",
    "y5 = timeit.timeit(stmt = stmt5, setup = setup, number = 1)"
   ]
  },
  {
   "cell_type": "code",
   "execution_count": 85,
   "metadata": {},
   "outputs": [],
   "source": [
    "stmt6 = '''df[(df.index <=2000000) & (df.Voltage > 235)]'''\n",
    "y6 = timeit.timeit(stmt = stmt6, setup = setup, number = 1)"
   ]
  },
  {
   "cell_type": "markdown",
   "metadata": {},
   "source": [
    "Блок для массива\n"
   ]
  },
  {
   "cell_type": "code",
   "execution_count": 86,
   "metadata": {},
   "outputs": [],
   "source": [
    "stmt01 = '''data100 = data[0:100]\n",
    "data100[data100['Voltage'] > 235]'''\n",
    "y01 = timeit.timeit(stmt = stmt01, setup = setup0, number = 1)"
   ]
  },
  {
   "cell_type": "code",
   "execution_count": 87,
   "metadata": {},
   "outputs": [],
   "source": [
    "stmt02 = '''data1000 = data[0:1000]\n",
    "data1000[data1000['Voltage'] > 235]'''\n",
    "y02 = timeit.timeit(stmt = stmt02, setup = setup0, number = 1)"
   ]
  },
  {
   "cell_type": "code",
   "execution_count": 88,
   "metadata": {},
   "outputs": [],
   "source": [
    "stmt03 = '''data10000 = data[0:10000]\n",
    "data10000[data10000['Voltage'] > 235]'''\n",
    "y03 = timeit.timeit(stmt = stmt03, setup = setup0, number = 1)"
   ]
  },
  {
   "cell_type": "code",
   "execution_count": 89,
   "metadata": {},
   "outputs": [],
   "source": [
    "stmt04 = '''data100000 = data[0:100000]\n",
    "data100000[data100000['Voltage'] > 235]'''\n",
    "y04 = timeit.timeit(stmt = stmt04, setup = setup0, number = 1)"
   ]
  },
  {
   "cell_type": "code",
   "execution_count": 90,
   "metadata": {},
   "outputs": [],
   "source": [
    "stmt05 = '''data1000000 = data[0:1000000]\n",
    "data1000000[data1000000['Voltage'] > 235]'''\n",
    "y05 = timeit.timeit(stmt = stmt05, setup = setup0, number = 1)"
   ]
  },
  {
   "cell_type": "code",
   "execution_count": 91,
   "metadata": {},
   "outputs": [],
   "source": [
    "stmt06 = '''data2000000 = data[0:2000000]\n",
    "data2000000[data2000000['Voltage'] > 235]'''\n",
    "y06 = timeit.timeit(stmt = stmt06, setup = setup0, number = 1)"
   ]
  },
  {
   "cell_type": "code",
   "execution_count": 92,
   "metadata": {},
   "outputs": [
    {
     "data": {
      "text/plain": [
       "[<matplotlib.lines.Line2D at 0x2291253e708>]"
      ]
     },
     "execution_count": 92,
     "metadata": {},
     "output_type": "execute_result"
    },
    {
     "data": {
      "image/png": "[encoded data removed]",
      "text/plain": [
       "<Figure size 432x288 with 1 Axes>"
      ]
     },
     "metadata": {
      "needs_background": "light"
     },
     "output_type": "display_data"
    }
   ],
   "source": [
    "x = [100, 1000, 10000,100000,1000000, 2000000]\n",
    "y = [y1, y2, y3, y4, y5, y6]\n",
    "y_1 = [y01, y02, y03, y04, y05, y06]\n",
    "plt.plot(x, y, color = 'red') \n",
    "plt.plot(x, y_1, color = 'blue')"
   ]
  },
  {
   "cell_type": "markdown",
   "metadata": {},
   "source": [
    "ЗАДАНИЕ 3"
   ]
  },
  {
   "cell_type": "markdown",
   "metadata": {},
   "source": [
    "Блок для dataframe"
   ]
  },
  {
   "cell_type": "code",
   "execution_count": 95,
   "metadata": {},
   "outputs": [],
   "source": [
    "stmt1 = '''df[(df.index <=100) & (df['Global_intensity'] >=19) & (df['Global_intensity'] <= 20) & (df['Sub_metering_2'] > df['Sub_metering_3'])]'''\n",
    "y1 = timeit.timeit(stmt = stmt1, setup = setup, number = 1)"
   ]
  },
  {
   "cell_type": "code",
   "execution_count": 96,
   "metadata": {},
   "outputs": [],
   "source": [
    "stmt2 = '''df[(df.index <=1000) & (df['Global_intensity'] >=19) & (df['Global_intensity'] <= 20) & (df['Sub_metering_2'] > df['Sub_metering_3'])]'''\n",
    "y2 = timeit.timeit(stmt = stmt2, setup = setup, number = 1)"
   ]
  },
  {
   "cell_type": "code",
   "execution_count": 97,
   "metadata": {},
   "outputs": [],
   "source": [
    "stmt3 = '''df[(df.index <=10000) & (df['Global_intensity'] >=19) & (df['Global_intensity'] <= 20) & (df['Sub_metering_2'] > df['Sub_metering_3'])]'''\n",
    "y3 = timeit.timeit(stmt = stmt3, setup = setup, number = 1)"
   ]
  },
  {
   "cell_type": "code",
   "execution_count": 98,
   "metadata": {},
   "outputs": [],
   "source": [
    "stmt4 = '''df[(df.index <=100000) & (df['Global_intensity'] >=19) & (df['Global_intensity'] <= 20) & (df['Sub_metering_2'] > df['Sub_metering_3'])]'''\n",
    "y4 = timeit.timeit(stmt = stmt4, setup = setup, number = 1)"
   ]
  },
  {
   "cell_type": "code",
   "execution_count": 99,
   "metadata": {},
   "outputs": [],
   "source": [
    "stmt5 = '''df[(df.index <=1000000) & (df['Global_intensity'] >=19) & (df['Global_intensity'] <= 20) & (df['Sub_metering_2'] > df['Sub_metering_3'])]'''\n",
    "y5 = timeit.timeit(stmt = stmt5, setup = setup, number = 1)"
   ]
  },
  {
   "cell_type": "code",
   "execution_count": 100,
   "metadata": {},
   "outputs": [],
   "source": [
    "stmt6 = '''df[(df.index <=2000000) & (df['Global_intensity'] >=19) & (df['Global_intensity'] <= 20) & (df['Sub_metering_2'] > df['Sub_metering_3'])]'''\n",
    "y6 = timeit.timeit(stmt = stmt6, setup = setup, number = 1)"
   ]
  },
  {
   "cell_type": "markdown",
   "metadata": {},
   "source": [
    "Блок для массива"
   ]
  },
  {
   "cell_type": "code",
   "execution_count": 101,
   "metadata": {},
   "outputs": [],
   "source": [
    "stmt01 = '''data100 = data[0:100]\n",
    "data100[(data100['Global_intensity']>= 19) & (data100['Global_intensity'] <= 20) & (data100['Sub_metering_2'] > data100['Sub_metering_3'])]'''\n",
    "y01 = timeit.timeit(stmt = stmt01, setup = setup0, number = 1)"
   ]
  },
  {
   "cell_type": "code",
   "execution_count": 102,
   "metadata": {},
   "outputs": [],
   "source": [
    "stmt02 = '''data1000 = data[0:1000]\n",
    "data1000[(data1000['Global_intensity']>= 19) & (data1000['Global_intensity'] <= 20) & (data1000['Sub_metering_2'] > data1000['Sub_metering_3'])]'''\n",
    "y02 = timeit.timeit(stmt = stmt02, setup = setup0, number = 1)"
   ]
  },
  {
   "cell_type": "code",
   "execution_count": 103,
   "metadata": {},
   "outputs": [],
   "source": [
    "stmt03 = '''data10000 = data[0:10000]\n",
    "data10000[(data10000['Global_intensity']>= 19) & (data10000['Global_intensity'] <= 20) & (data10000['Sub_metering_2'] > data10000['Sub_metering_3'])]'''\n",
    "y03 = timeit.timeit(stmt = stmt03, setup = setup0, number = 1)"
   ]
  },
  {
   "cell_type": "code",
   "execution_count": 104,
   "metadata": {},
   "outputs": [],
   "source": [
    "stmt04 = '''data100000 = data[0:100000]\n",
    "data100000[(data100000['Global_intensity']>= 19) & (data100000['Global_intensity'] <= 20) & (data100000['Sub_metering_2'] > data100000['Sub_metering_3'])]'''\n",
    "y04 = timeit.timeit(stmt = stmt04, setup = setup0, number = 1)"
   ]
  },
  {
   "cell_type": "code",
   "execution_count": 105,
   "metadata": {},
   "outputs": [],
   "source": [
    "stmt05 = '''data1000000 = data[0:1000000]\n",
    "data1000000[(data1000000['Global_intensity']>= 19) & (data1000000['Global_intensity'] <= 20) & (data1000000['Sub_metering_2'] > data1000000['Sub_metering_3'])]'''\n",
    "y05 = timeit.timeit(stmt = stmt05, setup = setup0, number = 1)"
   ]
  },
  {
   "cell_type": "code",
   "execution_count": 106,
   "metadata": {},
   "outputs": [],
   "source": [
    "stmt06 = '''data2000000 = data[0:2000000]\n",
    "data2000000[(data2000000['Global_intensity']>= 19) & (data2000000['Global_intensity'] <= 20) & (data2000000['Sub_metering_2'] > data2000000['Sub_metering_3'])]'''\n",
    "y06 = timeit.timeit(stmt = stmt06, setup = setup0, number = 1)"
   ]
  },
  {
   "cell_type": "code",
   "execution_count": 107,
   "metadata": {},
   "outputs": [
    {
     "data": {
      "text/plain": [
       "[<matplotlib.lines.Line2D at 0x2292f3a26c8>]"
      ]
     },
     "execution_count": 107,
     "metadata": {},
     "output_type": "execute_result"
    },
    {
     "data": {
      "image/png": "[encoded data removed]",
      "text/plain": [
       "<Figure size 432x288 with 1 Axes>"
      ]
     },
     "metadata": {
      "needs_background": "light"
     },
     "output_type": "display_data"
    }
   ],
   "source": [
    "x = [100, 1000, 10000,100000,1000000, 2000000]\n",
    "y = [y1, y2, y3, y4, y5, y6]\n",
    "y_1 = [y01, y02, y03, y04, y05, y06]\n",
    "plt.plot(x, y, color = 'red') \n",
    "plt.plot(x, y_1, color = 'blue')"
   ]
  },
  {
   "cell_type": "markdown",
   "metadata": {},
   "source": [
    "ЗАДАНИЕ 4"
   ]
  },
  {
   "cell_type": "code",
   "execution_count": 108,
   "metadata": {},
   "outputs": [],
   "source": [
    "setup1 = '''import pandas as pd\n",
    "df = pd.read_csv('Data.csv', sep='[; ]+', engine='python')\n",
    "df1 = df.sample(n=500000)\n",
    "data = df1.to_records()'''"
   ]
  },
  {
   "cell_type": "markdown",
   "metadata": {},
   "source": [
    "Блок для dataframe"
   ]
  },
  {
   "cell_type": "code",
   "execution_count": 109,
   "metadata": {},
   "outputs": [],
   "source": [
    "stmt1 = '''df1 = df1[df1.index <= 100]\n",
    "df1['Sub_metering_1'].mean()\n",
    "df1['Sub_metering_2'].mean()\n",
    "df1['Sub_metering_3'].mean()'''\n",
    "y1 = timeit.timeit(stmt = stmt1, setup = setup1, number = 1)"
   ]
  },
  {
   "cell_type": "code",
   "execution_count": 110,
   "metadata": {},
   "outputs": [],
   "source": [
    "stmt2 = '''df1 = df1[df1.index <= 1000]\n",
    "df1['Sub_metering_1'].mean()\n",
    "df1['Sub_metering_2'].mean()\n",
    "df1['Sub_metering_3'].mean()'''\n",
    "y2 = timeit.timeit(stmt = stmt2, setup = setup1, number = 1)"
   ]
  },
  {
   "cell_type": "code",
   "execution_count": 111,
   "metadata": {},
   "outputs": [],
   "source": [
    "stmt3 = '''df1 = df1[df1.index <= 10000]\n",
    "df1['Sub_metering_1'].mean()\n",
    "df1['Sub_metering_2'].mean()\n",
    "df1['Sub_metering_3'].mean()'''\n",
    "y3 = timeit.timeit(stmt = stmt3, setup = setup1, number = 1)"
   ]
  },
  {
   "cell_type": "code",
   "execution_count": 112,
   "metadata": {},
   "outputs": [],
   "source": [
    "stmt4 = '''df1 = df1[df1.index <= 100000]\n",
    "df1['Sub_metering_1'].mean()\n",
    "df1['Sub_metering_2'].mean()\n",
    "df1['Sub_metering_3'].mean()'''\n",
    "y4 = timeit.timeit(stmt = stmt4, setup = setup1, number = 1)"
   ]
  },
  {
   "cell_type": "code",
   "execution_count": 113,
   "metadata": {},
   "outputs": [],
   "source": [
    "stmt5 = '''df1 = df1[df1.index <= 1000000]\n",
    "df1['Sub_metering_1'].mean()\n",
    "df1['Sub_metering_2'].mean()\n",
    "df1['Sub_metering_3'].mean()'''\n",
    "y5 = timeit.timeit(stmt = stmt5, setup = setup1, number = 1)"
   ]
  },
  {
   "cell_type": "code",
   "execution_count": 114,
   "metadata": {},
   "outputs": [],
   "source": [
    "stmt6 = '''df1 = df1[df1.index <= 2000000]\n",
    "df1['Sub_metering_1'].mean()\n",
    "df1['Sub_metering_2'].mean()\n",
    "df1['Sub_metering_3'].mean()'''\n",
    "y6 = timeit.timeit(stmt = stmt6, setup = setup1, number = 1)"
   ]
  },
  {
   "cell_type": "markdown",
   "metadata": {},
   "source": [
    "Блок для массива"
   ]
  },
  {
   "cell_type": "code",
   "execution_count": 115,
   "metadata": {},
   "outputs": [],
   "source": [
    "stmt01 = '''data = data[0:100]\n",
    "data['Sub_metering_1'].mean()\n",
    "data['Sub_metering_2'].mean()\n",
    "data['Sub_metering_3'].mean()'''\n",
    "y01 = timeit.timeit(stmt = stmt01, setup = setup1, number = 1)"
   ]
  },
  {
   "cell_type": "code",
   "execution_count": 116,
   "metadata": {},
   "outputs": [],
   "source": [
    "stmt02 = '''data = data[0:1000]\n",
    "data['Sub_metering_1'].mean()\n",
    "data['Sub_metering_2'].mean()\n",
    "data['Sub_metering_3'].mean()'''\n",
    "y02 = timeit.timeit(stmt = stmt02, setup = setup1, number = 1)"
   ]
  },
  {
   "cell_type": "code",
   "execution_count": 117,
   "metadata": {},
   "outputs": [],
   "source": [
    "stmt03 = '''data = data[0:10000]\n",
    "data['Sub_metering_1'].mean()\n",
    "data['Sub_metering_2'].mean()\n",
    "data['Sub_metering_3'].mean()'''\n",
    "y03 = timeit.timeit(stmt = stmt03, setup = setup1, number = 1)"
   ]
  },
  {
   "cell_type": "code",
   "execution_count": 118,
   "metadata": {},
   "outputs": [],
   "source": [
    "stmt04 = '''data = data[0:100000]\n",
    "data['Sub_metering_1'].mean()\n",
    "data['Sub_metering_2'].mean()\n",
    "data['Sub_metering_3'].mean()'''\n",
    "y04 = timeit.timeit(stmt = stmt04, setup = setup1, number = 1)"
   ]
  },
  {
   "cell_type": "code",
   "execution_count": 119,
   "metadata": {},
   "outputs": [],
   "source": [
    "stmt05 = '''data = data[0:1000000]\n",
    "data['Sub_metering_1'].mean()\n",
    "data['Sub_metering_2'].mean()\n",
    "data['Sub_metering_3'].mean()'''\n",
    "y05 = timeit.timeit(stmt = stmt05, setup = setup1, number = 1)"
   ]
  },
  {
   "cell_type": "code",
   "execution_count": 120,
   "metadata": {},
   "outputs": [],
   "source": [
    "stmt06 = '''data = data[0:2000000]\n",
    "data['Sub_metering_1'].mean()\n",
    "data['Sub_metering_2'].mean()\n",
    "data['Sub_metering_3'].mean()'''\n",
    "y06 = timeit.timeit(stmt = stmt06, setup = setup1, number = 1)"
   ]
  },
  {
   "cell_type": "code",
   "execution_count": 121,
   "metadata": {},
   "outputs": [
    {
     "data": {
      "text/plain": [
       "[<matplotlib.lines.Line2D at 0x2292f3b2188>]"
      ]
     },
     "execution_count": 121,
     "metadata": {},
     "output_type": "execute_result"
    },
    {
     "data": {
      "image/png": "[encoded data removed]",
      "text/plain": [
       "<Figure size 432x288 with 1 Axes>"
      ]
     },
     "metadata": {
      "needs_background": "light"
     },
     "output_type": "display_data"
    }
   ],
   "source": [
    "x = [100, 1000, 10000,100000,1000000, 2000000]\n",
    "y = [y1, y2, y3, y4, y5, y6]\n",
    "y_1 = [y01, y02, y03, y04, y05, y06]\n",
    "plt.plot(x, y, color = 'red') \n",
    "plt.plot(x, y_1, color = 'blue')"
   ]
  },
  {
   "cell_type": "markdown",
   "metadata": {},
   "source": [
    "ЗАДАНИЕ 5"
   ]
  },
  {
   "cell_type": "markdown",
   "metadata": {},
   "source": [
    "Блок для dataframe\n"
   ]
  },
  {
   "cell_type": "code",
   "execution_count": 168,
   "metadata": {},
   "outputs": [],
   "source": [
    "stmt1 = '''df2 = df[(df.index <= 100) & (df.Time >= '18:00:00') & (df.Global_active_power > 6) & (df.Sub_metering_2 > df.Sub_metering_1) & (df.Sub_metering_2 > df.Sub_metering_3)]\n",
    "df2 = df2.reset_index(drop=True)\n",
    "df2_1 = df2[(df2.index < len(df2)//2) & (df2.index % 3 == 0)]\n",
    "df2_2 = df2[(df2.index >= len(df2)//2) & (df2.index % 4 == 0)]\n",
    "df3 = pd.concat([df2_1, df2_2])'''\n",
    "y1 = timeit.timeit(stmt = stmt1, setup = setup, number = 1)"
   ]
  },
  {
   "cell_type": "code",
   "execution_count": 169,
   "metadata": {},
   "outputs": [],
   "source": [
    "stmt2 = '''df2 = df[(df.index <= 1000) & (df.Time >= '18:00:00') & (df.Global_active_power > 6) & (df.Sub_metering_2 > df.Sub_metering_1) & (df.Sub_metering_2 > df.Sub_metering_3)]\n",
    "df2 = df2.reset_index(drop=True)\n",
    "df2_1 = df2[(df2.index < len(df2)//2) & (df2.index % 3 == 0)]\n",
    "df2_2 = df2[(df2.index >= len(df2)//2) & (df2.index % 4 == 0)]\n",
    "df3 = pd.concat([df2_1, df2_2])'''\n",
    "y2 = timeit.timeit(stmt = stmt2, setup = setup, number = 1)"
   ]
  },
  {
   "cell_type": "code",
   "execution_count": 183,
   "metadata": {},
   "outputs": [],
   "source": [
    "stmt3 = '''df2 = df[(df.index <= 10000) & (df.Time >= '18:00:00') & (df.Global_active_power > 6) & (df.Sub_metering_2 > df.Sub_metering_1) & (df.Sub_metering_2 > df.Sub_metering_3)]\n",
    "df2 = df2.reset_index(drop=True)\n",
    "df2_1 = df2[(df2.index < len(df2)//2) & (df2.index % 3 == 0)]\n",
    "df2_2 = df2[(df2.index >= len(df2)//2) & (df2.index % 4 == 0)]\n",
    "df3 = pd.concat([df2_1, df2_2])'''\n",
    "y3 = timeit.timeit(stmt = stmt3, setup = setup, number = 1)"
   ]
  },
  {
   "cell_type": "code",
   "execution_count": 184,
   "metadata": {},
   "outputs": [],
   "source": [
    "stmt4 = '''df2 = df[(df.index <= 100000) & (df.Time >= '18:00:00') & (df.Global_active_power > 6) & (df.Sub_metering_2 > df.Sub_metering_1) & (df.Sub_metering_2 > df.Sub_metering_3)]\n",
    "df2 = df2.reset_index(drop=True)\n",
    "df2_1 = df2[(df2.index < len(df2)//2) & (df2.index % 3 == 0)]\n",
    "df2_2 = df2[(df2.index >= len(df2)//2) & (df2.index % 4 == 0)]\n",
    "df3 = pd.concat([df2_1, df2_2])'''\n",
    "y4 = timeit.timeit(stmt = stmt4, setup = setup, number = 1)"
   ]
  },
  {
   "cell_type": "code",
   "execution_count": 185,
   "metadata": {},
   "outputs": [],
   "source": [
    "stmt5 = '''df2 = df[(df.index <= 1000000) & (df.Time >= '18:00:00') & (df.Global_active_power > 6) & (df.Sub_metering_2 > df.Sub_metering_1) & (df.Sub_metering_2 > df.Sub_metering_3)]\n",
    "df2 = df2.reset_index(drop=True)\n",
    "df2_1 = df2[(df2.index < len(df2)//2) & (df2.index % 3 == 0)]\n",
    "df2_2 = df2[(df2.index >= len(df2)//2) & (df2.index % 4 == 0)]\n",
    "df3 = pd.concat([df2_1, df2_2])'''\n",
    "y5 = timeit.timeit(stmt = stmt5, setup = setup, number = 1)"
   ]
  },
  {
   "cell_type": "code",
   "execution_count": 186,
   "metadata": {},
   "outputs": [],
   "source": [
    "stmt6 = '''df2 = df[(df.index <= 2000000) & (df.Time >= '18:00:00') & (df.Global_active_power > 6) & (df.Sub_metering_2 > df.Sub_metering_1) & (df.Sub_metering_2 > df.Sub_metering_3)]\n",
    "df2 = df2.reset_index(drop=True)\n",
    "df2_1 = df2[(df2.index < len(df2)//2) & (df2.index % 3 == 0)]\n",
    "df2_2 = df2[(df2.index >= len(df2)//2) & (df2.index % 4 == 0)]'''\n",
    "y6 = timeit.timeit(stmt = stmt6, setup = setup, number = 1)"
   ]
  },
  {
   "cell_type": "markdown",
   "metadata": {},
   "source": [
    "Блок для массива"
   ]
  },
  {
   "cell_type": "code",
   "execution_count": 176,
   "metadata": {},
   "outputs": [],
   "source": [
    "stmt01 = '''\n",
    "data = data[0:100]\n",
    "data = data[(data['Time'] >= '18:00:00') & (data['Global_active_power'] > 6) & (data['Sub_metering_2'] > data['Sub_metering_1']) & (data['Sub_metering_2'] > data['Sub_metering_3'])]\n",
    "data[0:len(data)//2:3]\n",
    "data[len(data)//2+1::4]'''\n",
    "y01 = timeit.timeit(stmt = stmt01, setup = setup0, number = 1)"
   ]
  },
  {
   "cell_type": "code",
   "execution_count": 177,
   "metadata": {},
   "outputs": [],
   "source": [
    "stmt02 = '''\n",
    "data = data[0:1000]\n",
    "data = data[(data['Time'] >= '18:00:00') & (data['Global_active_power'] > 6) & (data['Sub_metering_2'] > data['Sub_metering_1']) & (data['Sub_metering_2'] > data['Sub_metering_3'])]\n",
    "data[0:len(data)//2:3]\n",
    "data[len(data)//2+1::4]'''\n",
    "y02 = timeit.timeit(stmt = stmt02, setup = setup0, number = 1)"
   ]
  },
  {
   "cell_type": "code",
   "execution_count": 187,
   "metadata": {},
   "outputs": [],
   "source": [
    "stmt03 = '''\n",
    "data = data[0:10000]\n",
    "data = data[(data['Time'] >= '18:00:00') & (data['Global_active_power'] > 6) & (data['Sub_metering_2'] > data['Sub_metering_1']) & (data['Sub_metering_2'] > data['Sub_metering_3'])]\n",
    "data[0:len(data)//2:3]\n",
    "data[len(data)//2+1::4]'''\n",
    "y03 = timeit.timeit(stmt = stmt03, setup = setup0, number = 1)"
   ]
  },
  {
   "cell_type": "code",
   "execution_count": 188,
   "metadata": {},
   "outputs": [],
   "source": [
    "stmt04 = '''\n",
    "data = data[0:100000]\n",
    "data = data[(data['Time'] >= '18:00:00') & (data['Global_active_power'] > 6) & (data['Sub_metering_2'] > data['Sub_metering_1']) & (data['Sub_metering_2'] > data['Sub_metering_3'])]\n",
    "data[0:len(data)//2:3]\n",
    "data[len(data)//2+1::4]'''\n",
    "y04 = timeit.timeit(stmt = stmt04, setup = setup0, number = 1)"
   ]
  },
  {
   "cell_type": "code",
   "execution_count": 189,
   "metadata": {},
   "outputs": [],
   "source": [
    "stmt05 = '''\n",
    "data = data[0:1000000]\n",
    "data = data[(data['Time'] >= '18:00:00') & (data['Global_active_power'] > 6) & (data['Sub_metering_2'] > data['Sub_metering_1']) & (data['Sub_metering_2'] > data['Sub_metering_3'])]\n",
    "data[0:len(data)//2:3]\n",
    "data[len(data)//2+1::4]'''\n",
    "y05 = timeit.timeit(stmt = stmt05, setup = setup0, number = 1)"
   ]
  },
  {
   "cell_type": "code",
   "execution_count": 190,
   "metadata": {},
   "outputs": [],
   "source": [
    "stmt06 = '''\n",
    "data = data[0:2000000]\n",
    "data = data[(data['Time'] >= '18:00:00') & (data['Global_active_power'] > 6) & (data['Sub_metering_2'] > data['Sub_metering_1']) & (data['Sub_metering_2'] > data['Sub_metering_3'])]\n",
    "data[0:len(data)//2:3]\n",
    "data[len(data)//2+1::4]'''\n",
    "y06 = timeit.timeit(stmt = stmt06, setup = setup0, number = 1)"
   ]
  },
  {
   "cell_type": "code",
   "execution_count": 191,
   "metadata": {},
   "outputs": [
    {
     "data": {
      "text/plain": [
       "[<matplotlib.lines.Line2D at 0x228f5cf12c8>]"
      ]
     },
     "execution_count": 191,
     "metadata": {},
     "output_type": "execute_result"
    },
    {
     "data": {
      "image/png": "[encoded data removed]",
      "text/plain": [
       "<Figure size 432x288 with 1 Axes>"
      ]
     },
     "metadata": {
      "needs_background": "light"
     },
     "output_type": "display_data"
    }
   ],
   "source": [
    "x = [10000,100000,1000000, 2000000]\n",
    "y = [y3, y4, y5, y6]\n",
    "y_1 = [y03, y04, y05, y06]\n",
    "plt.plot(x, y, color = 'red') \n",
    "plt.plot(x, y_1, color = 'blue')"
   ]
  },
  {
   "cell_type": "code",
   "execution_count": null,
   "metadata": {},
   "outputs": [],
   "source": []
  }
 ],
 "metadata": {
  "kernelspec": {
   "display_name": "Python 3",
   "language": "python",
   "name": "python3"
  },
  "language_info": {
   "codemirror_mode": {
    "name": "ipython",
    "version": 3
   },
   "file_extension": ".py",
   "mimetype": "text/x-python",
   "name": "python",
   "nbconvert_exporter": "python",
   "pygments_lexer": "ipython3",
   "version": "3.7.6"
  }
 },
 "nbformat": 4,
 "nbformat_minor": 4
}
