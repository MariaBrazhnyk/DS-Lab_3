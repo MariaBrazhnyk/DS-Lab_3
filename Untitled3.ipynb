{
 "cells": [
  {
   "cell_type": "code",
   "execution_count": 1,
   "metadata": {},
   "outputs": [],
   "source": [
    "import pandas as pd\n",
    "import timeit\n",
    "import matplotlib.pyplot as plt\n",
    "import numpy as np"
   ]
  },
  {
   "cell_type": "code",
   "execution_count": 73,
   "metadata": {},
   "outputs": [],
   "source": [
    "df = pd.read_csv('Data.csv', sep='[; ]+', engine='python')"
   ]
  },
  {
   "cell_type": "code",
   "execution_count": 88,
   "metadata": {},
   "outputs": [],
   "source": [
    "data = np.genfromtxt('Data.csv', dtype={'names':('Date', 'Time', 'Global_active_power', 'Global_reactive_power', 'Voltage', 'Global_intensity', 'Sub_metering_1', 'Sub_metering_2', 'Sub_metering_3'), 'formats':('U8', 'U8', 'f8', 'f8', 'f8', 'f8', 'f8', 'f8', 'f8')}, delimiter=';')\n",
    "data = np.delete(data, (0), axis=0)"
   ]
  },
  {
   "cell_type": "markdown",
   "metadata": {},
   "source": [
    "ЗАДАНИЕ 1"
   ]
  },
  {
   "cell_type": "code",
   "execution_count": 106,
   "metadata": {},
   "outputs": [],
   "source": [
    "y1 = []\n",
    "y01 = []\n",
    "for i in range(1, 7):\n",
    "    i = 10 ** i\n",
    "    df1 = df[0:i]\n",
    "    stmt = 'df1[df1.Global_active_power > 5]'\n",
    "    y1.append(timeit.timeit(stmt = stmt, globals=globals(), number = 1))\n",
    "    data1 = data[0:i]\n",
    "    stmt1 = \"data1[data1['Global_active_power'] > 5]\"\n",
    "    y01.append(timeit.timeit(stmt = stmt1, globals=globals(), number = 1))"
   ]
  },
  {
   "cell_type": "code",
   "execution_count": 107,
   "metadata": {},
   "outputs": [
    {
     "data": {
      "text/plain": [
       "([<matplotlib.axis.XTick at 0x2067e795e48>,\n",
       "  <matplotlib.axis.XTick at 0x2060030b708>,\n",
       "  <matplotlib.axis.XTick at 0x2067e7954c8>,\n",
       "  <matplotlib.axis.XTick at 0x206769b1c88>,\n",
       "  <matplotlib.axis.XTick at 0x2062b72cb48>,\n",
       "  <matplotlib.axis.XTick at 0x2062b72c648>],\n",
       " <a list of 6 Text xticklabel objects>)"
      ]
     },
     "execution_count": 107,
     "metadata": {},
     "output_type": "execute_result"
    },
    {
     "data": {
      "image/png": "[encoded data removed]",
      "text/plain": [
       "<Figure size 432x288 with 1 Axes>"
      ]
     },
     "metadata": {
      "needs_background": "light"
     },
     "output_type": "display_data"
    }
   ],
   "source": [
    "x = [100, 1000, 10000,100000,1000000, 2000000]\n",
    "plt.plot(x, y1, color = 'red') \n",
    "plt.plot(x, y01, color = 'blue')\n",
    "plt.xticks(x)"
   ]
  },
  {
   "cell_type": "markdown",
   "metadata": {},
   "source": [
    "ЗАДАНИЕ 2"
   ]
  },
  {
   "cell_type": "code",
   "execution_count": 110,
   "metadata": {},
   "outputs": [],
   "source": [
    "y1 = []\n",
    "y01 = []\n",
    "for i in range(1, 7):\n",
    "    i = 10 ** i\n",
    "    df1 = df[0:i]\n",
    "    stmt = 'df1[df1.Voltage > 235]'\n",
    "    y1.append(timeit.timeit(stmt = stmt, globals=globals(), number = 1))\n",
    "    data1 = data[0:i]\n",
    "    stmt1 = \"data1[data1['Voltage'] > 235]\"\n",
    "    y01.append(timeit.timeit(stmt = stmt1, globals=globals(), number = 1))"
   ]
  },
  {
   "cell_type": "code",
   "execution_count": 111,
   "metadata": {},
   "outputs": [
    {
     "data": {
      "text/plain": [
       "([<matplotlib.axis.XTick at 0x20652ca3d08>,\n",
       "  <matplotlib.axis.XTick at 0x2065c4f1688>,\n",
       "  <matplotlib.axis.XTick at 0x2065c4f1c88>,\n",
       "  <matplotlib.axis.XTick at 0x20663805788>,\n",
       "  <matplotlib.axis.XTick at 0x20663805548>,\n",
       "  <matplotlib.axis.XTick at 0x2065e916848>],\n",
       " <a list of 6 Text xticklabel objects>)"
      ]
     },
     "execution_count": 111,
     "metadata": {},
     "output_type": "execute_result"
    },
    {
     "data": {
      "image/png": "[encoded data removed]",
      "text/plain": [
       "<Figure size 432x288 with 1 Axes>"
      ]
     },
     "metadata": {
      "needs_background": "light"
     },
     "output_type": "display_data"
    }
   ],
   "source": [
    "x = [100, 1000, 10000,100000,1000000, 2000000]\n",
    "plt.plot(x, y1, color = 'red') \n",
    "plt.plot(x, y01, color = 'blue')\n",
    "plt.xticks(x)"
   ]
  },
  {
   "cell_type": "markdown",
   "metadata": {},
   "source": [
    "ЗАДАНИЕ 3"
   ]
  },
  {
   "cell_type": "code",
   "execution_count": 112,
   "metadata": {},
   "outputs": [],
   "source": [
    "y1 = []\n",
    "y01 = []\n",
    "for i in range(1, 7):\n",
    "    i = 10 ** i\n",
    "    df1 = df[0:i]\n",
    "    stmt = \"df1[(df1['Global_intensity'] >=19) & (df1['Global_intensity'] <= 20) & (df1['Sub_metering_2'] > df1['Sub_metering_3'])]\"\n",
    "    y1.append(timeit.timeit(stmt = stmt, globals=globals(), number = 1))\n",
    "    data1 = data[0:i]\n",
    "    stmt1 = \"(data1['Global_intensity']>= 19) & (data1['Global_intensity'] <= 20) & (data1['Sub_metering_2'] > data1['Sub_metering_3'])\"\n",
    "    y01.append(timeit.timeit(stmt = stmt1, globals=globals(), number = 1))"
   ]
  },
  {
   "cell_type": "code",
   "execution_count": 113,
   "metadata": {},
   "outputs": [
    {
     "data": {
      "text/plain": [
       "([<matplotlib.axis.XTick at 0x206776ff2c8>,\n",
       "  <matplotlib.axis.XTick at 0x2065452e3c8>,\n",
       "  <matplotlib.axis.XTick at 0x206776ffe08>,\n",
       "  <matplotlib.axis.XTick at 0x2067f0ca0c8>,\n",
       "  <matplotlib.axis.XTick at 0x2067f0ca3c8>,\n",
       "  <matplotlib.axis.XTick at 0x20600841288>],\n",
       " <a list of 6 Text xticklabel objects>)"
      ]
     },
     "execution_count": 113,
     "metadata": {},
     "output_type": "execute_result"
    },
    {
     "data": {
      "image/png": "[encoded data removed]",
      "text/plain": [
       "<Figure size 432x288 with 1 Axes>"
      ]
     },
     "metadata": {
      "needs_background": "light"
     },
     "output_type": "display_data"
    }
   ],
   "source": [
    "x = [100, 1000, 10000,100000,1000000, 2000000]\n",
    "plt.plot(x, y1, color = 'red') \n",
    "plt.plot(x, y01, color = 'blue')\n",
    "plt.xticks(x)"
   ]
  },
  {
   "cell_type": "markdown",
   "metadata": {},
   "source": [
    "ЗАДАНИЕ 4\n"
   ]
  },
  {
   "cell_type": "code",
   "execution_count": 55,
   "metadata": {},
   "outputs": [],
   "source": [
    "df1 = df.sample(n=500000)\n",
    "data0 = df1.to_records()"
   ]
  },
  {
   "cell_type": "code",
   "execution_count": 114,
   "metadata": {},
   "outputs": [],
   "source": [
    "y1 = []\n",
    "y01 = []\n",
    "for i in range(1, 7):\n",
    "    i = 10 ** i\n",
    "    df2 = df1[0:i]\n",
    "    stmt = '''df2['Sub_metering_1'].mean()\n",
    "df2['Sub_metering_2'].mean()\n",
    "df2['Sub_metering_3'].mean()'''\n",
    "    y1.append(timeit.timeit(stmt = stmt, globals=globals(), number = 1))\n",
    "    data2 = data0[0:i]\n",
    "    stmt1 = '''\n",
    "data2['Sub_metering_1'].mean()\n",
    "data2['Sub_metering_2'].mean()\n",
    "data2['Sub_metering_3'].mean()'''\n",
    "    y01.append(timeit.timeit(stmt = stmt1, globals=globals(), number = 1))"
   ]
  },
  {
   "cell_type": "code",
   "execution_count": 115,
   "metadata": {},
   "outputs": [
    {
     "data": {
      "text/plain": [
       "([<matplotlib.axis.XTick at 0x2066b8e9288>,\n",
       "  <matplotlib.axis.XTick at 0x2067a9fec88>,\n",
       "  <matplotlib.axis.XTick at 0x2067a9fed08>,\n",
       "  <matplotlib.axis.XTick at 0x20678696688>,\n",
       "  <matplotlib.axis.XTick at 0x206780f4648>,\n",
       "  <matplotlib.axis.XTick at 0x206780f48c8>],\n",
       " <a list of 6 Text xticklabel objects>)"
      ]
     },
     "execution_count": 115,
     "metadata": {},
     "output_type": "execute_result"
    },
    {
     "data": {
      "image/png": "[encoded data removed]",
      "text/plain": [
       "<Figure size 432x288 with 1 Axes>"
      ]
     },
     "metadata": {
      "needs_background": "light"
     },
     "output_type": "display_data"
    }
   ],
   "source": [
    "x = [100, 1000, 10000,100000,1000000, 2000000]\n",
    "plt.plot(x, y1, color = 'red') \n",
    "plt.plot(x, y01, color = 'blue')\n",
    "plt.xticks(x)"
   ]
  },
  {
   "cell_type": "markdown",
   "metadata": {},
   "source": [
    "ЗАДАНИЕ 5"
   ]
  },
  {
   "cell_type": "code",
   "execution_count": 126,
   "metadata": {},
   "outputs": [],
   "source": [
    "y1 = []\n",
    "y01 = []\n",
    "for i in range(1, 7):\n",
    "    i = 10 ** i\n",
    "    df1 = df[0:i]\n",
    "    stmt1 = '''df2 = df1[(df1.index <= 100) & (df1.Time >= '18:00:00') & (df1.Global_active_power > 6) & (df1.Sub_metering_2 > df1.Sub_metering_1) & (df1.Sub_metering_2 > df1.Sub_metering_3)]\n",
    "df2 = df2.reset_index(drop=True)\n",
    "df2_1 = df2[(df2.index < len(df2)//2) & (df2.index % 3 == 0)]\n",
    "df2_2 = df2[(df2.index >= len(df2)//2) & (df2.index % 4 == 0)]'''\n",
    "    y1.append(timeit.timeit(stmt = stmt1, globals=globals(), number = 1))\n",
    "    data1 = data[0:i]\n",
    "    stmt1 = '''data2 = data1[(data1['Time'] >= '18:00:00') & (data1['Global_active_power'] > 6) & (data1['Sub_metering_2'] > data1['Sub_metering_1']) & (data1['Sub_metering_2'] > data1['Sub_metering_3'])]\n",
    "data2[0:len(data2)//2:3]\n",
    "data2[len(data2)//2+1::4]'''\n",
    "    y01.append(timeit.timeit(stmt = stmt1, globals=globals(), number = 1))"
   ]
  },
  {
   "cell_type": "code",
   "execution_count": 127,
   "metadata": {},
   "outputs": [
    {
     "data": {
      "text/plain": [
       "([<matplotlib.axis.XTick at 0x2064596a248>,\n",
       "  <matplotlib.axis.XTick at 0x2064596af08>,\n",
       "  <matplotlib.axis.XTick at 0x2064596a488>,\n",
       "  <matplotlib.axis.XTick at 0x2064338f3c8>,\n",
       "  <matplotlib.axis.XTick at 0x20642ce42c8>,\n",
       "  <matplotlib.axis.XTick at 0x20642ce4f88>],\n",
       " <a list of 6 Text xticklabel objects>)"
      ]
     },
     "execution_count": 127,
     "metadata": {},
     "output_type": "execute_result"
    },
    {
     "data": {
      "image/png": "[encoded data removed]",
      "text/plain": [
       "<Figure size 432x288 with 1 Axes>"
      ]
     },
     "metadata": {
      "needs_background": "light"
     },
     "output_type": "display_data"
    }
   ],
   "source": [
    "x = [100, 1000, 10000,100000,1000000, 2000000]\n",
    "plt.plot(x, y1, color = 'red') \n",
    "plt.plot(x, y01, color = 'blue')\n",
    "plt.xticks(x)"
   ]
  },
  {
   "cell_type": "code",
   "execution_count": null,
   "metadata": {},
   "outputs": [],
   "source": []
  }
 ],
 "metadata": {
  "kernelspec": {
   "display_name": "Python 3",
   "language": "python",
   "name": "python3"
  },
  "language_info": {
   "codemirror_mode": {
    "name": "ipython",
    "version": 3
   },
   "file_extension": ".py",
   "mimetype": "text/x-python",
   "name": "python",
   "nbconvert_exporter": "python",
   "pygments_lexer": "ipython3",
   "version": "3.7.6"
  }
 },
 "nbformat": 4,
 "nbformat_minor": 4
}
